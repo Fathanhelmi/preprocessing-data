{
 "cells": [
  {
   "cell_type": "markdown",
   "metadata": {},
   "source": [
    "# TUGAS PREPROCESSING "
   ]
  },
  {
   "cell_type": "markdown",
   "metadata": {},
   "source": [
    "## 1. a. Membaca Data produk_elektronik.csv"
   ]
  },
  {
   "cell_type": "code",
   "execution_count": 2,
   "metadata": {},
   "outputs": [
    {
     "name": "stdout",
     "output_type": "stream",
     "text": [
      "     produk_id nama_produk    kategori  harga  rating  jumlah_ulasan  \\\n",
      "0            1    Produk_1  Smartwatch  746.0     4.2          273.0   \n",
      "1            2    Produk_2   Headphone  241.0     3.5          239.0   \n",
      "2            3    Produk_3      Tablet  810.0     3.8          209.0   \n",
      "3            4    Produk_4   Headphone  303.0     3.2           59.0   \n",
      "4            5    Produk_5   Headphone  252.0     3.7           76.0   \n",
      "..         ...         ...         ...    ...     ...            ...   \n",
      "545        546  Produk_546      Laptop  496.0     3.9           19.0   \n",
      "546        547  Produk_547   Headphone  628.0     4.7          414.0   \n",
      "547        548  Produk_548      Tablet  465.0     4.3          393.0   \n",
      "548        549  Produk_549      Laptop  495.0     3.1          311.0   \n",
      "549        550  Produk_550      Tablet  388.0     4.3          240.0   \n",
      "\n",
      "     negara_asal  \n",
      "0          Japan  \n",
      "1         Canada  \n",
      "2         Canada  \n",
      "3    South Korea  \n",
      "4    South Korea  \n",
      "..           ...  \n",
      "545        China  \n",
      "546          USA  \n",
      "547        India  \n",
      "548      Germany  \n",
      "549      Germany  \n",
      "\n",
      "[550 rows x 7 columns]\n"
     ]
    }
   ],
   "source": [
    "import pandas as pd\n",
    "import numpy as np\n",
    "\n",
    "data = pd.read_csv('data/produk_elektronik.csv')\n",
    "print(data)\n"
   ]
  },
  {
   "cell_type": "markdown",
   "metadata": {},
   "source": [
    "##      b. Menampilkan informasi dataset"
   ]
  },
  {
   "cell_type": "code",
   "execution_count": 3,
   "metadata": {},
   "outputs": [
    {
     "name": "stdout",
     "output_type": "stream",
     "text": [
      "<class 'pandas.core.frame.DataFrame'>\n",
      "RangeIndex: 550 entries, 0 to 549\n",
      "Data columns (total 7 columns):\n",
      " #   Column         Non-Null Count  Dtype  \n",
      "---  ------         --------------  -----  \n",
      " 0   produk_id      550 non-null    int64  \n",
      " 1   nama_produk    550 non-null    object \n",
      " 2   kategori       550 non-null    object \n",
      " 3   harga          520 non-null    float64\n",
      " 4   rating         500 non-null    float64\n",
      " 5   jumlah_ulasan  530 non-null    float64\n",
      " 6   negara_asal    550 non-null    object \n",
      "dtypes: float64(3), int64(1), object(3)\n",
      "memory usage: 30.2+ KB\n",
      "\n",
      " Mendeteksi missing value\n"
     ]
    },
    {
     "data": {
      "text/html": [
       "<div>\n",
       "<style scoped>\n",
       "    .dataframe tbody tr th:only-of-type {\n",
       "        vertical-align: middle;\n",
       "    }\n",
       "\n",
       "    .dataframe tbody tr th {\n",
       "        vertical-align: top;\n",
       "    }\n",
       "\n",
       "    .dataframe thead th {\n",
       "        text-align: right;\n",
       "    }\n",
       "</style>\n",
       "<table border=\"1\" class=\"dataframe\">\n",
       "  <thead>\n",
       "    <tr style=\"text-align: right;\">\n",
       "      <th></th>\n",
       "      <th>produk_id</th>\n",
       "      <th>nama_produk</th>\n",
       "      <th>kategori</th>\n",
       "      <th>harga</th>\n",
       "      <th>rating</th>\n",
       "      <th>jumlah_ulasan</th>\n",
       "      <th>negara_asal</th>\n",
       "    </tr>\n",
       "  </thead>\n",
       "  <tbody>\n",
       "    <tr>\n",
       "      <th>0</th>\n",
       "      <td>False</td>\n",
       "      <td>False</td>\n",
       "      <td>False</td>\n",
       "      <td>False</td>\n",
       "      <td>False</td>\n",
       "      <td>False</td>\n",
       "      <td>False</td>\n",
       "    </tr>\n",
       "    <tr>\n",
       "      <th>1</th>\n",
       "      <td>False</td>\n",
       "      <td>False</td>\n",
       "      <td>False</td>\n",
       "      <td>False</td>\n",
       "      <td>False</td>\n",
       "      <td>False</td>\n",
       "      <td>False</td>\n",
       "    </tr>\n",
       "    <tr>\n",
       "      <th>2</th>\n",
       "      <td>False</td>\n",
       "      <td>False</td>\n",
       "      <td>False</td>\n",
       "      <td>False</td>\n",
       "      <td>False</td>\n",
       "      <td>False</td>\n",
       "      <td>False</td>\n",
       "    </tr>\n",
       "    <tr>\n",
       "      <th>3</th>\n",
       "      <td>False</td>\n",
       "      <td>False</td>\n",
       "      <td>False</td>\n",
       "      <td>False</td>\n",
       "      <td>False</td>\n",
       "      <td>False</td>\n",
       "      <td>False</td>\n",
       "    </tr>\n",
       "    <tr>\n",
       "      <th>4</th>\n",
       "      <td>False</td>\n",
       "      <td>False</td>\n",
       "      <td>False</td>\n",
       "      <td>False</td>\n",
       "      <td>False</td>\n",
       "      <td>False</td>\n",
       "      <td>False</td>\n",
       "    </tr>\n",
       "    <tr>\n",
       "      <th>...</th>\n",
       "      <td>...</td>\n",
       "      <td>...</td>\n",
       "      <td>...</td>\n",
       "      <td>...</td>\n",
       "      <td>...</td>\n",
       "      <td>...</td>\n",
       "      <td>...</td>\n",
       "    </tr>\n",
       "    <tr>\n",
       "      <th>545</th>\n",
       "      <td>False</td>\n",
       "      <td>False</td>\n",
       "      <td>False</td>\n",
       "      <td>False</td>\n",
       "      <td>False</td>\n",
       "      <td>False</td>\n",
       "      <td>False</td>\n",
       "    </tr>\n",
       "    <tr>\n",
       "      <th>546</th>\n",
       "      <td>False</td>\n",
       "      <td>False</td>\n",
       "      <td>False</td>\n",
       "      <td>False</td>\n",
       "      <td>False</td>\n",
       "      <td>False</td>\n",
       "      <td>False</td>\n",
       "    </tr>\n",
       "    <tr>\n",
       "      <th>547</th>\n",
       "      <td>False</td>\n",
       "      <td>False</td>\n",
       "      <td>False</td>\n",
       "      <td>False</td>\n",
       "      <td>False</td>\n",
       "      <td>False</td>\n",
       "      <td>False</td>\n",
       "    </tr>\n",
       "    <tr>\n",
       "      <th>548</th>\n",
       "      <td>False</td>\n",
       "      <td>False</td>\n",
       "      <td>False</td>\n",
       "      <td>False</td>\n",
       "      <td>False</td>\n",
       "      <td>False</td>\n",
       "      <td>False</td>\n",
       "    </tr>\n",
       "    <tr>\n",
       "      <th>549</th>\n",
       "      <td>False</td>\n",
       "      <td>False</td>\n",
       "      <td>False</td>\n",
       "      <td>False</td>\n",
       "      <td>False</td>\n",
       "      <td>False</td>\n",
       "      <td>False</td>\n",
       "    </tr>\n",
       "  </tbody>\n",
       "</table>\n",
       "<p>550 rows × 7 columns</p>\n",
       "</div>"
      ],
      "text/plain": [
       "     produk_id  nama_produk  kategori  harga  rating  jumlah_ulasan  \\\n",
       "0        False        False     False  False   False          False   \n",
       "1        False        False     False  False   False          False   \n",
       "2        False        False     False  False   False          False   \n",
       "3        False        False     False  False   False          False   \n",
       "4        False        False     False  False   False          False   \n",
       "..         ...          ...       ...    ...     ...            ...   \n",
       "545      False        False     False  False   False          False   \n",
       "546      False        False     False  False   False          False   \n",
       "547      False        False     False  False   False          False   \n",
       "548      False        False     False  False   False          False   \n",
       "549      False        False     False  False   False          False   \n",
       "\n",
       "     negara_asal  \n",
       "0          False  \n",
       "1          False  \n",
       "2          False  \n",
       "3          False  \n",
       "4          False  \n",
       "..           ...  \n",
       "545        False  \n",
       "546        False  \n",
       "547        False  \n",
       "548        False  \n",
       "549        False  \n",
       "\n",
       "[550 rows x 7 columns]"
      ]
     },
     "execution_count": 3,
     "metadata": {},
     "output_type": "execute_result"
    }
   ],
   "source": [
    "data.info()\n",
    "\n",
    "print(\"\\n Mendeteksi missing value\")\n",
    "data.isnull()\n"
   ]
  },
  {
   "cell_type": "markdown",
   "metadata": {},
   "source": [
    "## 2. a. Mengecek missing value pada data"
   ]
  },
  {
   "cell_type": "code",
   "execution_count": 4,
   "metadata": {},
   "outputs": [
    {
     "name": "stdout",
     "output_type": "stream",
     "text": [
      "\n",
      " Menghitung jumlah missing value pada setiap kolom\n"
     ]
    },
    {
     "name": "stderr",
     "output_type": "stream",
     "text": [
      "c:\\Users\\User\\AppData\\Local\\Programs\\Python\\Python313\\Lib\\site-packages\\numpy\\_core\\fromnumeric.py:84: FutureWarning: The behavior of DataFrame.sum with axis=None is deprecated, in a future version this will reduce over both axes and return a scalar. To retain the old behavior, pass axis=0 (or do not pass axis)\n",
      "  return reduction(axis=axis, out=out, **passkwargs)\n"
     ]
    },
    {
     "data": {
      "text/plain": [
       "produk_id         0\n",
       "nama_produk       0\n",
       "kategori          0\n",
       "harga            30\n",
       "rating           50\n",
       "jumlah_ulasan    20\n",
       "negara_asal       0\n",
       "dtype: int64"
      ]
     },
     "execution_count": 4,
     "metadata": {},
     "output_type": "execute_result"
    }
   ],
   "source": [
    "print(\"\\n Menghitung jumlah missing value pada setiap kolom\")\n",
    "np.sum(data.isnull())"
   ]
  },
  {
   "cell_type": "markdown",
   "metadata": {},
   "source": [
    "## b. Kenapa missing value dapat memengaruhi hasil analisis data"
   ]
  },
  {
   "cell_type": "markdown",
   "metadata": {},
   "source": [
    "Missing value dapat mempengaruhi analisis dan hasil yang akan diperoleh. Keberadaan data yang hilang dapat mengurangi akurasi analisis karena informasi yang tidak lengkap dapat menyebabkan bias dalam perhitungan statistik seperti rata-rata, median, dan standar deviasi. Selain itu, banyak algoritma dan metode statistik tidak dapat bekerja dengan baik jika terdapat nilai yang hilang, sehingga dapat menghambat proses analisis data. Kehilangan data juga dapat menyebabkan distorsi dalam hasil statistik, misalnya jika banyak data penting yang hilang, maka kesimpulan yang diambil dari analisis bisa keliru."
   ]
  },
  {
   "cell_type": "markdown",
   "metadata": {},
   "source": [
    "## c. Metode untuk menangani missing value"
   ]
  },
  {
   "cell_type": "markdown",
   "metadata": {},
   "source": [
    "Untuk menangani missing value kita bisa menggunakan metode imputation untuk mengisi data hilang dengan data mean, median atau modus tergantung jenis data dan karakteristiknya."
   ]
  },
  {
   "cell_type": "markdown",
   "metadata": {},
   "source": [
    "## d. Menangani missing value"
   ]
  },
  {
   "cell_type": "markdown",
   "metadata": {},
   "source": [
    "data harga"
   ]
  },
  {
   "cell_type": "code",
   "execution_count": 5,
   "metadata": {},
   "outputs": [
    {
     "data": {
      "text/plain": [
       "np.int64(0)"
      ]
     },
     "execution_count": 5,
     "metadata": {},
     "output_type": "execute_result"
    }
   ],
   "source": [
    "data[\"harga\"] = data[\"harga\"].fillna(data.groupby(\"kategori\")[\"harga\"].transform(\"median\"))\n",
    "np.sum(data['harga'].isnull())"
   ]
  },
  {
   "cell_type": "markdown",
   "metadata": {},
   "source": [
    "data rating"
   ]
  },
  {
   "cell_type": "code",
   "execution_count": 6,
   "metadata": {},
   "outputs": [
    {
     "data": {
      "text/plain": [
       "np.int64(0)"
      ]
     },
     "execution_count": 6,
     "metadata": {},
     "output_type": "execute_result"
    }
   ],
   "source": [
    "data[\"rating\"] = data[\"rating\"].fillna(data.groupby(\"kategori\")[\"rating\"].transform(\"median\"))\n",
    "np.sum(data['rating'].isnull())"
   ]
  },
  {
   "cell_type": "markdown",
   "metadata": {},
   "source": [
    "data jumlah_ulasan"
   ]
  },
  {
   "cell_type": "code",
   "execution_count": 7,
   "metadata": {},
   "outputs": [
    {
     "data": {
      "text/plain": [
       "np.int64(0)"
      ]
     },
     "execution_count": 7,
     "metadata": {},
     "output_type": "execute_result"
    }
   ],
   "source": [
    "data[\"jumlah_ulasan\"] = data[\"jumlah_ulasan\"].fillna(data.groupby([\"kategori\"])[\"jumlah_ulasan\"].transform(\"median\"))\n",
    "np.sum(data['jumlah_ulasan'].isnull())"
   ]
  },
  {
   "cell_type": "code",
   "execution_count": 8,
   "metadata": {},
   "outputs": [
    {
     "name": "stderr",
     "output_type": "stream",
     "text": [
      "c:\\Users\\User\\AppData\\Local\\Programs\\Python\\Python313\\Lib\\site-packages\\numpy\\_core\\fromnumeric.py:84: FutureWarning: The behavior of DataFrame.sum with axis=None is deprecated, in a future version this will reduce over both axes and return a scalar. To retain the old behavior, pass axis=0 (or do not pass axis)\n",
      "  return reduction(axis=axis, out=out, **passkwargs)\n"
     ]
    },
    {
     "data": {
      "text/plain": [
       "produk_id        0\n",
       "nama_produk      0\n",
       "kategori         0\n",
       "harga            0\n",
       "rating           0\n",
       "jumlah_ulasan    0\n",
       "negara_asal      0\n",
       "dtype: int64"
      ]
     },
     "execution_count": 8,
     "metadata": {},
     "output_type": "execute_result"
    }
   ],
   "source": [
    "np.sum(data.isnull())"
   ]
  },
  {
   "cell_type": "markdown",
   "metadata": {},
   "source": [
    "## 3. a. Mengidenfikasi outlier dalam datases"
   ]
  },
  {
   "cell_type": "code",
   "execution_count": 9,
   "metadata": {},
   "outputs": [
    {
     "data": {
      "image/png": "[encoded data removed]",
      "text/plain": [
       "<Figure size 1500x800 with 6 Axes>"
      ]
     },
     "metadata": {},
     "output_type": "display_data"
    }
   ],
   "source": [
    "import matplotlib.pyplot as plt\n",
    "import seaborn as sns\n",
    "\n",
    "# Visualisasi Boxplot\n",
    "plt.figure(figsize=(15, 8))\n",
    "for i, col in enumerate(data.columns.drop(\"nama_produk\"), 1):\n",
    "    plt.subplot(3, 3, i)\n",
    "    sns.boxplot(y=data[col])\n",
    "    plt.title(col)\n",
    "plt.tight_layout()\n",
    "plt.show()\n"
   ]
  },
  {
   "cell_type": "markdown",
   "metadata": {},
   "source": [
    "## b. Apa dampak dari keberadaan outlier terhadap analisis?"
   ]
  },
  {
   "cell_type": "markdown",
   "metadata": {},
   "source": [
    "Outlier dapat mendistorsi statistik seperti mean dan regresi, menyebabkan hasil analisis kurang akurat. Mereka juga bisa mempengaruhi model prediktif, meningkatkan risiko overfitting atau kesalahan prediksi. Oleh karena itu, penting untuk mengidentifikasi dan menanganinya dengan metode yang sesuai."
   ]
  },
  {
   "cell_type": "markdown",
   "metadata": {},
   "source": [
    "## c. Memilih metode untuk menangani outlier"
   ]
  },
  {
   "cell_type": "markdown",
   "metadata": {},
   "source": [
    "Untuk menangani outlier menggunakan metode winsorizing, yaitu menggantinilai persentil tertentu. Metode ini dipilih karena tetap mempetehankan semua data dalam analisis tanpa menghapusnya, sehingga data tidak terdistorsi. Selain itu, winsorizing juga mengurangi pengaruh ekstream tanpa menghilangkan variasi penting dalam data. "
   ]
  },
  {
   "cell_type": "markdown",
   "metadata": {},
   "source": [
    "## d. Tangani outlier dengan metode yang sesuai, atau jika memilih tidak menangani outlier berikan alasannya"
   ]
  },
  {
   "cell_type": "markdown",
   "metadata": {},
   "source": [
    "Data yang memiliki outlier hanya data harga, sehingga tidak perlu ditangani."
   ]
  },
  {
   "cell_type": "code",
   "execution_count": 10,
   "metadata": {},
   "outputs": [
    {
     "name": "stdout",
     "output_type": "stream",
     "text": [
      "     produk_id nama_produk    kategori   harga  rating  jumlah_ulasan  \\\n",
      "29          30   Produk_30      Tablet  1150.0     3.1          486.0   \n",
      "116        117  Produk_117  Smartphone  8341.0     4.6          300.0   \n",
      "233        234  Produk_234      Tablet  7123.0     3.4          389.0   \n",
      "320        321  Produk_321      Tablet  1134.0     3.2          138.0   \n",
      "363        364  Produk_364  Smartphone  5840.0     4.4          492.0   \n",
      "413        414  Produk_414      Laptop  5598.0     4.3          387.0   \n",
      "483        484  Produk_484      Camera  5224.0     4.1          212.0   \n",
      "\n",
      "     negara_asal  \n",
      "29            UK  \n",
      "116  South Korea  \n",
      "233           UK  \n",
      "320       France  \n",
      "363       Canada  \n",
      "413  South Korea  \n",
      "483       Canada  \n"
     ]
    }
   ],
   "source": [
    "Q1 = data[\"harga\"].quantile(0.25) \n",
    "Q3 = data[\"harga\"].quantile(0.75)  \n",
    "IQR = Q3 - Q1  \n",
    "lower_bound = Q1 - 1.5 * IQR\n",
    "upper_bound = Q3 + 1.5 * IQR\n",
    "print(data[data[\"harga\"]>upper_bound])"
   ]
  },
  {
   "cell_type": "markdown",
   "metadata": {},
   "source": [
    "Dari data yang memiliki harga diatas upper bound bisa diasumsikan bahwa barang tersebut adalah barang mewah sehingga memiliki harga yang diatas harga wajar"
   ]
  },
  {
   "cell_type": "markdown",
   "metadata": {},
   "source": [
    "## 4. a. Menentukan kolom yang perlu di encoding"
   ]
  },
  {
   "cell_type": "code",
   "execution_count": 11,
   "metadata": {},
   "outputs": [
    {
     "name": "stdout",
     "output_type": "stream",
     "text": [
      "data negara:  ['Japan' 'Canada' 'South Korea' 'France' 'USA' 'Germany' 'China' 'India'\n",
      " 'UK']\n",
      "data kategori:  ['Smartwatch' 'Headphone' 'Tablet' 'Laptop' 'Camera' 'Smartphone']\n"
     ]
    }
   ],
   "source": [
    "print(\"data negara: \",data[\"negara_asal\"].unique())\n",
    "print(\"data kategori: \",data[\"kategori\"].unique())"
   ]
  },
  {
   "cell_type": "markdown",
   "metadata": {},
   "source": [
    "untuk data yang perlu diencoding adalah data kategori dan data negara asal karena bersifat kategorik"
   ]
  }
 ],
 "metadata": {
  "kernelspec": {
   "display_name": "Python 3",
   "language": "python",
   "name": "python3"
  },
  "language_info": {
   "codemirror_mode": {
    "name": "ipython",
    "version": 3
   },
   "file_extension": ".py",
   "mimetype": "text/x-python",
   "name": "python",
   "nbconvert_exporter": "python",
   "pygments_lexer": "ipython3",
   "version": "3.13.2"
  }
 },
 "nbformat": 4,
 "nbformat_minor": 2
}
